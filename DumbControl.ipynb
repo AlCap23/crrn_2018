{
 "cells": [
  {
   "cell_type": "code",
   "execution_count": 1,
   "metadata": {},
   "outputs": [],
   "source": [
    "import simple_sim.simulation_objects as Objects\n",
    "import simple_sim.simulation_server as World\n",
    "import pybullet_data\n",
    "import os\n",
    "import simple_sim.simulation_robot as Robots\n",
    "import simple_sim.simulation_controller as Controls"
   ]
  },
  {
   "cell_type": "code",
   "execution_count": 9,
   "metadata": {},
   "outputs": [],
   "source": [
    "import numpy as np\n",
    "from time import sleep"
   ]
  },
  {
   "cell_type": "code",
   "execution_count": 2,
   "metadata": {},
   "outputs": [],
   "source": [
    "# Start a simulation server\n",
    "server = World.simulationServer()"
   ]
  },
  {
   "cell_type": "code",
   "execution_count": 3,
   "metadata": {},
   "outputs": [],
   "source": [
    "# Add a heightmap\n",
    "heightmap = Objects.SimHeightmap(server, './models/heightmap.obj')"
   ]
  },
  {
   "cell_type": "code",
   "execution_count": 4,
   "metadata": {},
   "outputs": [],
   "source": [
    "robot = Robots.Robot(server, './models/SimpleWalker/urdf/SimpleWalker.urdf', basePosition = [0, 0, 2])"
   ]
  },
  {
   "cell_type": "code",
   "execution_count": 5,
   "metadata": {},
   "outputs": [],
   "source": [
    "# Set the gravity\n",
    "server.setGravity([0, 0, -9.81])"
   ]
  },
  {
   "cell_type": "code",
   "execution_count": 6,
   "metadata": {},
   "outputs": [],
   "source": [
    "for joint in robot.joints.keys():\n",
    "    Controls.PositionControl(robot, joint, False)"
   ]
  },
  {
   "cell_type": "code",
   "execution_count": 31,
   "metadata": {},
   "outputs": [],
   "source": [
    "# Start the simulation\n",
    "server.startSimulation()"
   ]
  },
  {
   "cell_type": "code",
   "execution_count": 26,
   "metadata": {},
   "outputs": [],
   "source": [
    "import pybullet"
   ]
  },
  {
   "cell_type": "code",
   "execution_count": 29,
   "metadata": {},
   "outputs": [],
   "source": [
    "pybullet.setRealTimeSimulation(0)"
   ]
  },
  {
   "cell_type": "code",
   "execution_count": 33,
   "metadata": {},
   "outputs": [],
   "source": [
    "def control(time):\n",
    "    return np.clip(np.sin(0.1*time) + 0.5 , -np.pi, np.pi)"
   ]
  },
  {
   "cell_type": "code",
   "execution_count": 34,
   "metadata": {},
   "outputs": [],
   "source": [
    "t = 0\n",
    "while t < 10:\n",
    "    for controller in robot.controller.values():\n",
    "        controller.setReference(reference = control(t))\n",
    "    t += 0.1\n",
    "    sleep(0.5)"
   ]
  },
  {
   "cell_type": "code",
   "execution_count": 32,
   "metadata": {},
   "outputs": [
    {
     "data": {
      "text/plain": [
       "<simple_sim.simulation_controller.PositionControl at 0x7f1a940db2e8>"
      ]
     },
     "execution_count": 32,
     "metadata": {},
     "output_type": "execute_result"
    }
   ],
   "source": [
    "testy = robot.controller[1]\n",
    "testy"
   ]
  },
  {
   "cell_type": "code",
   "execution_count": 21,
   "metadata": {},
   "outputs": [],
   "source": [
    "def slidingMode(joint, reference):\n",
    "    # Domain of non switching\n",
    "    eps = 0.2\n",
    "    error = # Get Joint Pos - reference\n",
    "        \n",
    "    if error < -eps:\n",
    "        return 10\n",
    "    elif error > eps:\n",
    "        return -10\n",
    "    else: \n",
    "        return 0"
   ]
  },
  {
   "cell_type": "code",
   "execution_count": null,
   "metadata": {},
   "outputs": [],
   "source": []
  }
 ],
 "metadata": {
  "kernelspec": {
   "display_name": "Python 3",
   "language": "python",
   "name": "python3"
  },
  "language_info": {
   "codemirror_mode": {
    "name": "ipython",
    "version": 3
   },
   "file_extension": ".py",
   "mimetype": "text/x-python",
   "name": "python",
   "nbconvert_exporter": "python",
   "pygments_lexer": "ipython3",
   "version": "3.5.2"
  }
 },
 "nbformat": 4,
 "nbformat_minor": 2
}
