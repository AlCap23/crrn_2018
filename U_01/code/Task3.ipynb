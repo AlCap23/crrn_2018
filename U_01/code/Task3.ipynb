{
 "cells": [
  {
   "cell_type": "markdown",
   "metadata": {},
   "source": [
    "# Practical Example 3\n",
    "## Simple Physics - Extended Hyperparameter\n",
    "\n",
    "As described in Part 2 of the tutorial. Get the ball to bounce.\n",
    "\n",
    "Get to know erp ( and other )"
   ]
  },
  {
   "cell_type": "code",
   "execution_count": 1,
   "metadata": {},
   "outputs": [],
   "source": [
    "# Import my libraries / packages\n",
    "import pybullet\n",
    "import pybullet_data\n",
    "import matplotlib.pylab as plt\n",
    "from time import sleep"
   ]
  },
  {
   "cell_type": "code",
   "execution_count": 2,
   "metadata": {},
   "outputs": [],
   "source": [
    "# Open up a new graphical simulaion\n",
    "client = pybullet.connect(pybullet.GUI)"
   ]
  },
  {
   "cell_type": "code",
   "execution_count": 3,
   "metadata": {},
   "outputs": [],
   "source": [
    "# Find the pybullet data\n",
    "data_path = pybullet_data.getDataPath()\n",
    "pybullet.setAdditionalSearchPath(data_path)"
   ]
  },
  {
   "cell_type": "code",
   "execution_count": 4,
   "metadata": {},
   "outputs": [],
   "source": [
    "# Add a plane\n",
    "\n",
    "plane = pybullet.loadURDF('plane.urdf')"
   ]
  },
  {
   "cell_type": "code",
   "execution_count": 5,
   "metadata": {},
   "outputs": [],
   "source": [
    "# Add a sphere\n",
    "# Already provided by pybullet\n",
    "# Locate that 2 m above the orgin\n",
    "\n",
    "sphere = pybullet.loadURDF('sphere2.urdf', basePosition = [0, 0, 2])"
   ]
  },
  {
   "cell_type": "code",
   "execution_count": 24,
   "metadata": {},
   "outputs": [],
   "source": [
    "# Set the gravity to get some results\n",
    "pybullet.setGravity(0, 0, -9.81)\n",
    "pybullet.changeDynamics(plane, -1, restitution = .9)\n",
    "pybullet.changeDynamics(sphere, -1, restitution = 1.0)"
   ]
  },
  {
   "cell_type": "code",
   "execution_count": 10,
   "metadata": {},
   "outputs": [
    {
     "data": {
      "text/plain": [
       "0.004166666666666667"
      ]
     },
     "execution_count": 10,
     "metadata": {},
     "output_type": "execute_result"
    }
   ],
   "source": [
    "# Get the step size of pybullet\n",
    "dt = pybullet.getPhysicsEngineParameters()['fixedTimeStep']\n",
    "dt"
   ]
  },
  {
   "cell_type": "code",
   "execution_count": 11,
   "metadata": {},
   "outputs": [],
   "source": [
    "# Save the current state of the simulation\n",
    "savepoint = pybullet.saveState()"
   ]
  },
  {
   "cell_type": "code",
   "execution_count": 28,
   "metadata": {},
   "outputs": [],
   "source": [
    "# Reload the initial state\n",
    "pybullet.restoreState(savepoint)"
   ]
  },
  {
   "cell_type": "code",
   "execution_count": 29,
   "metadata": {},
   "outputs": [],
   "source": [
    "# Change other parameters as well\n",
    "pybullet.setPhysicsEngineParameter(fixedTimeStep = 0.001, restitutionVelocityThreshold = 20.0)"
   ]
  },
  {
   "cell_type": "code",
   "execution_count": 19,
   "metadata": {},
   "outputs": [],
   "source": [
    "# Start Real time simulation\n",
    "pybullet.setRealTimeSimulation(1)"
   ]
  },
  {
   "cell_type": "code",
   "execution_count": null,
   "metadata": {},
   "outputs": [],
   "source": [
    "# Execute this inside the simulation\n",
    "while True:\n",
    "    # Read the debug parameter\n",
    "    curr_res_plane = pybullet.readUserDebugParameter(res_plane)\n",
    "    curr_res_sphere = pybullet.readUserDebugParameter(res_sphere)\n",
    "    \n",
    "    # Change the dynamics\n",
    "    pybullet.changeDynamics(plane, -1, restitution = curr_res_plane)\n",
    "    pybullet.changeDynamics(sphere, -1, restitution = curr_res_sphere)"
   ]
  }
 ],
 "metadata": {
  "kernelspec": {
   "display_name": "Python 3",
   "language": "python",
   "name": "python3"
  },
  "language_info": {
   "codemirror_mode": {
    "name": "ipython",
    "version": 3
   },
   "file_extension": ".py",
   "mimetype": "text/x-python",
   "name": "python",
   "nbconvert_exporter": "python",
   "pygments_lexer": "ipython3",
   "version": "3.5.2"
  }
 },
 "nbformat": 4,
 "nbformat_minor": 2
}
