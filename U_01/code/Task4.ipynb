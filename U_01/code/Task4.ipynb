{
 "cells": [
  {
   "cell_type": "code",
   "execution_count": 1,
   "metadata": {},
   "outputs": [],
   "source": [
    "import pybullet\n",
    "import pybullet_data"
   ]
  },
  {
   "cell_type": "code",
   "execution_count": 2,
   "metadata": {},
   "outputs": [],
   "source": [
    "# Open up a new graphical simulaion\n",
    "client = pybullet.connect(pybullet.GUI)"
   ]
  },
  {
   "cell_type": "code",
   "execution_count": 3,
   "metadata": {},
   "outputs": [],
   "source": [
    "# Find the pybullet data\n",
    "data_path = pybullet_data.getDataPath()\n",
    "pybullet.setAdditionalSearchPath(data_path)"
   ]
  },
  {
   "cell_type": "code",
   "execution_count": 4,
   "metadata": {},
   "outputs": [],
   "source": [
    "# Add a plane\n",
    "\n",
    "plane = pybullet.loadURDF('plane.urdf')"
   ]
  },
  {
   "cell_type": "code",
   "execution_count": 5,
   "metadata": {},
   "outputs": [],
   "source": [
    "pybullet.resetSimulation()\n",
    "pybullet.loadURDF(pybullet_data.getDataPath() + '/plane.urdf', useFixedBase = True)\n",
    "collision = pybullet.createCollisionShape(\n",
    "shapeType = pybullet.GEOM_BOX,\n",
    "halfExtents = [0.5, 0.5, 0.5]\n",
    ")\n",
    "visual = pybullet.createVisualShape(\n",
    "shapeType = pybullet.GEOM_SPHERE,\n",
    "radius = 0.5\n",
    ")\n",
    "new_sphere = pybullet.createMultiBody(\n",
    "baseMass = 1.0,\n",
    "baseCollisionShapeIndex = collision,\n",
    "baseVisualShapeIndex = visual,\n",
    "basePosition = [1, 1, 0.5]\n",
    ")"
   ]
  },
  {
   "cell_type": "code",
   "execution_count": 6,
   "metadata": {},
   "outputs": [],
   "source": [
    "collision = pybullet.createCollisionShape(\n",
    "shapeType = pybullet.GEOM_BOX,\n",
    "halfExtents = [0.5, 0.5, 0.5]\n",
    ")\n",
    "visual = pybullet.createVisualShape(\n",
    "shapeType = pybullet.GEOM_SPHERE,\n",
    "radius = 0.5\n",
    ")\n",
    "new_sphere = pybullet.createMultiBody(\n",
    "baseMass = 1.0,\n",
    "baseCollisionShapeIndex = collision,\n",
    "baseVisualShapeIndex = visual,\n",
    "basePosition = [0.8, 1.2, 1.5]\n",
    ")"
   ]
  },
  {
   "cell_type": "code",
   "execution_count": 7,
   "metadata": {},
   "outputs": [],
   "source": [
    "pybullet.setRealTimeSimulation(1)"
   ]
  },
  {
   "cell_type": "code",
   "execution_count": 8,
   "metadata": {},
   "outputs": [],
   "source": [
    "pybullet.setGravity(0, 0, -9.81)"
   ]
  },
  {
   "cell_type": "code",
   "execution_count": null,
   "metadata": {},
   "outputs": [],
   "source": []
  }
 ],
 "metadata": {
  "kernelspec": {
   "display_name": "Python 3",
   "language": "python",
   "name": "python3"
  },
  "language_info": {
   "codemirror_mode": {
    "name": "ipython",
    "version": 3
   },
   "file_extension": ".py",
   "mimetype": "text/x-python",
   "name": "python",
   "nbconvert_exporter": "python",
   "pygments_lexer": "ipython3",
   "version": "3.5.2"
  }
 },
 "nbformat": 4,
 "nbformat_minor": 2
}
