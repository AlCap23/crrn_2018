{
 "cells": [
  {
   "cell_type": "markdown",
   "metadata": {},
   "source": [
    "# Practical Example 2\n",
    "## Simple Physics - Extended\n",
    "\n",
    "As described in Part 2 of the tutorial. Get the ball to bounce."
   ]
  },
  {
   "cell_type": "code",
   "execution_count": 1,
   "metadata": {},
   "outputs": [],
   "source": [
    "# Import my libraries / packages\n",
    "import pybullet\n",
    "import pybullet_data\n",
    "import matplotlib.pylab as plt\n",
    "from time import sleep"
   ]
  },
  {
   "cell_type": "code",
   "execution_count": 2,
   "metadata": {},
   "outputs": [],
   "source": [
    "# Open up a new graphical simulaion\n",
    "client = pybullet.connect(pybullet.GUI)"
   ]
  },
  {
   "cell_type": "code",
   "execution_count": 3,
   "metadata": {},
   "outputs": [],
   "source": [
    "# Find the pybullet data\n",
    "data_path = pybullet_data.getDataPath()\n",
    "pybullet.setAdditionalSearchPath(data_path)"
   ]
  },
  {
   "cell_type": "code",
   "execution_count": 4,
   "metadata": {},
   "outputs": [],
   "source": [
    "# Add a plane\n",
    "\n",
    "plane = pybullet.loadURDF('plane.urdf')"
   ]
  },
  {
   "cell_type": "code",
   "execution_count": 5,
   "metadata": {},
   "outputs": [],
   "source": [
    "# Add a sphere\n",
    "# Already provided by pybullet\n",
    "# Locate that 2 m above the orgin\n",
    "\n",
    "sphere = pybullet.loadURDF('sphere2.urdf', basePosition = [0, 0, 2])"
   ]
  },
  {
   "cell_type": "code",
   "execution_count": 6,
   "metadata": {},
   "outputs": [],
   "source": [
    "# Set the gravity to get some results\n",
    "pybullet.setGravity(0, 0, -9.81)"
   ]
  },
  {
   "cell_type": "code",
   "execution_count": 7,
   "metadata": {},
   "outputs": [
    {
     "data": {
      "text/plain": [
       "0.004166666666666667"
      ]
     },
     "execution_count": 7,
     "metadata": {},
     "output_type": "execute_result"
    }
   ],
   "source": [
    "# Get the step size of pybullet\n",
    "dt = pybullet.getPhysicsEngineParameters()['fixedTimeStep']\n",
    "dt"
   ]
  },
  {
   "cell_type": "code",
   "execution_count": 8,
   "metadata": {},
   "outputs": [
    {
     "data": {
      "text/plain": [
       "(10.0,\n",
       " 0.5,\n",
       " (1.0, 1.0, 1.0),\n",
       " (0.0, 0.0, 0.0),\n",
       " (0.0, 0.0, 0.0, 1.0),\n",
       " 0.0,\n",
       " 0.03,\n",
       " 0.03,\n",
       " -1.0,\n",
       " -1.0)"
      ]
     },
     "execution_count": 8,
     "metadata": {},
     "output_type": "execute_result"
    }
   ],
   "source": [
    "# Get the dynamic information of the sphere\n",
    "# We want the root link -> -1 as link identifier\n",
    "# The restituion is zero \n",
    "pybullet.getDynamicsInfo(sphere, -1)"
   ]
  },
  {
   "cell_type": "code",
   "execution_count": 9,
   "metadata": {},
   "outputs": [],
   "source": [
    "# We want to change that, so let's assume we have ideal restitution\n",
    "pybullet.changeDynamics(sphere, -1 , restitution = 1.0)"
   ]
  },
  {
   "cell_type": "code",
   "execution_count": 10,
   "metadata": {},
   "outputs": [
    {
     "data": {
      "text/plain": [
       "(0.0,\n",
       " 1.0,\n",
       " (0.0, 0.0, 0.0),\n",
       " (0.0, 0.0, 0.0),\n",
       " (0.0, 0.0, 0.0, 1.0),\n",
       " 0.0,\n",
       " 0.0,\n",
       " 0.0,\n",
       " -1.0,\n",
       " -1.0)"
      ]
     },
     "execution_count": 10,
     "metadata": {},
     "output_type": "execute_result"
    }
   ],
   "source": [
    "# Nothing is happening even though we changed the restitution.\n",
    "# Pybullet calculates the restitution of each collision with the product of \n",
    "# the indiviual restitutions\n",
    "pybullet.getDynamicsInfo(plane, -1)"
   ]
  },
  {
   "cell_type": "code",
   "execution_count": 11,
   "metadata": {},
   "outputs": [],
   "source": [
    "pybullet.changeDynamics(plane, -1, restitution = 1.0)"
   ]
  },
  {
   "cell_type": "code",
   "execution_count": 12,
   "metadata": {},
   "outputs": [],
   "source": [
    "# Save the current state of the simulation\n",
    "savepoint = pybullet.saveState()"
   ]
  },
  {
   "cell_type": "code",
   "execution_count": 13,
   "metadata": {},
   "outputs": [],
   "source": [
    "# Reload the initial state\n",
    "pybullet.restoreState(savepoint)"
   ]
  },
  {
   "cell_type": "code",
   "execution_count": null,
   "metadata": {},
   "outputs": [],
   "source": []
  },
  {
   "cell_type": "code",
   "execution_count": 14,
   "metadata": {},
   "outputs": [],
   "source": [
    "# Add debug parameter\n",
    "res_plane = pybullet.addUserDebugParameter('Plane', 0.0, 1.5, 1.0)\n",
    "res_sphere = pybullet.addUserDebugParameter('Sphere', 0.0, 1.5, 1.0)"
   ]
  },
  {
   "cell_type": "code",
   "execution_count": 15,
   "metadata": {},
   "outputs": [],
   "source": [
    "# Start Real time simulation\n",
    "pybullet.setRealTimeSimulation(1)"
   ]
  },
  {
   "cell_type": "code",
   "execution_count": null,
   "metadata": {},
   "outputs": [],
   "source": [
    "# Execute this inside the simulation\n",
    "while True:\n",
    "    # Read the debug parameter\n",
    "    curr_res_plane = pybullet.readUserDebugParameter(res_plane)\n",
    "    curr_res_sphere = pybullet.readUserDebugParameter(res_sphere)\n",
    "    \n",
    "    # Change the dynamics\n",
    "    pybullet.changeDynamics(plane, -1, restitution = curr_res_plane)\n",
    "    pybullet.changeDynamics(sphere, -1, restitution = curr_res_sphere)"
   ]
  },
  {
   "cell_type": "code",
   "execution_count": 14,
   "metadata": {},
   "outputs": [],
   "source": [
    "# Set an initial time\n",
    "# Its bouncing! \n",
    "# We want to analyze the heights\n",
    "time = 0\n",
    "# Define a measurement\n",
    "measurement = []\n",
    "times = []\n",
    "while time < 10:\n",
    "    pybullet.stepSimulation()\n",
    "    time += dt\n",
    "    # Append each time to the time array\n",
    "    times.append(time)\n",
    "    # Append the height of the sphere at each timestep\n",
    "    measurement.append(pybullet.getBasePositionAndOrientation(sphere)[0][-1])\n",
    "    sleep(dt)"
   ]
  }
 ],
 "metadata": {
  "kernelspec": {
   "display_name": "Python 3",
   "language": "python",
   "name": "python3"
  },
  "language_info": {
   "codemirror_mode": {
    "name": "ipython",
    "version": 3
   },
   "file_extension": ".py",
   "mimetype": "text/x-python",
   "name": "python",
   "nbconvert_exporter": "python",
   "pygments_lexer": "ipython3",
   "version": "3.5.2"
  }
 },
 "nbformat": 4,
 "nbformat_minor": 2
}
