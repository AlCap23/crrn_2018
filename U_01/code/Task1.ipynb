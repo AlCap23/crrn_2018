{
 "cells": [
  {
   "cell_type": "markdown",
   "metadata": {},
   "source": [
    "# Practical Example 1\n",
    "## Simple Physics\n",
    "\n",
    "As described in Part 1 of the tutorial"
   ]
  },
  {
   "cell_type": "code",
   "execution_count": 2,
   "metadata": {},
   "outputs": [],
   "source": [
    "# Import my libraries / packages\n",
    "import pybullet\n",
    "import pybullet_data\n",
    "from time import sleep"
   ]
  },
  {
   "cell_type": "code",
   "execution_count": 3,
   "metadata": {},
   "outputs": [
    {
     "data": {
      "text/plain": [
       "\u001b[0;31mDocstring:\u001b[0m\n",
       "connect(method, key=SHARED_MEMORY_KEY, options='')\n",
       "connect(method, hostname='localhost', port=1234, options='')\n",
       "Connect to an existing physics server (using shared memory by default).\n",
       "\u001b[0;31mType:\u001b[0m      builtin_function_or_method\n"
      ]
     },
     "metadata": {},
     "output_type": "display_data"
    }
   ],
   "source": [
    "# Start a simulation client\n",
    "# To do that, we need to execute , maybe the docstring is helpfull\n",
    "\n",
    "client = pybullet.connect?"
   ]
  },
  {
   "cell_type": "code",
   "execution_count": 6,
   "metadata": {},
   "outputs": [],
   "source": [
    "# Open up a new graphical simulaion, use the additional option if you have graphic problems\n",
    "client = pybullet.connect(pybullet.GUI, options=\"--opengl2\")"
   ]
  },
  {
   "cell_type": "code",
   "execution_count": 7,
   "metadata": {},
   "outputs": [],
   "source": [
    "# Find the pybullet data\n",
    "data_path = pybullet_data.getDataPath()\n",
    "pybullet.setAdditionalSearchPath(data_path)"
   ]
  },
  {
   "cell_type": "code",
   "execution_count": 8,
   "metadata": {},
   "outputs": [],
   "source": [
    "# Add a plane\n",
    "\n",
    "plane = pybullet.loadURDF('plane.urdf')"
   ]
  },
  {
   "cell_type": "code",
   "execution_count": 9,
   "metadata": {},
   "outputs": [],
   "source": [
    "# Add a sphere\n",
    "# Already provided by pybullet\n",
    "# Locate that 2 m above the orgin\n",
    "\n",
    "sphere = pybullet.loadURDF('sphere2.urdf', basePosition = [0, 0, 2])"
   ]
  },
  {
   "cell_type": "code",
   "execution_count": 12,
   "metadata": {},
   "outputs": [],
   "source": [
    "# Set the gravity to get some results\n",
    "pybullet.setGravity(0, 0, -9.81)"
   ]
  },
  {
   "cell_type": "code",
   "execution_count": 10,
   "metadata": {},
   "outputs": [
    {
     "data": {
      "text/plain": [
       "0.004166666666666667"
      ]
     },
     "execution_count": 10,
     "metadata": {},
     "output_type": "execute_result"
    }
   ],
   "source": [
    "# Get the step size of pybullet\n",
    "dt = pybullet.getPhysicsEngineParameters()['fixedTimeStep']\n",
    "dt"
   ]
  },
  {
   "cell_type": "code",
   "execution_count": 9,
   "metadata": {},
   "outputs": [],
   "source": [
    "# Set an initial time\n",
    "# Oh no, its too fast!\n",
    "time = 0\n",
    "while time < 10:\n",
    "    pybullet.stepSimulation()\n",
    "    time += dt\n",
    "    sleep(dt)"
   ]
  },
  {
   "cell_type": "code",
   "execution_count": 11,
   "metadata": {},
   "outputs": [],
   "source": [
    "# We can even simulate in real time\n",
    "pybullet.setRealTimeSimulation(True)"
   ]
  }
 ],
 "metadata": {
  "kernelspec": {
   "display_name": "Python 3",
   "language": "python",
   "name": "python3"
  },
  "language_info": {
   "codemirror_mode": {
    "name": "ipython",
    "version": 3
   },
   "file_extension": ".py",
   "mimetype": "text/x-python",
   "name": "python",
   "nbconvert_exporter": "python",
   "pygments_lexer": "ipython3",
   "version": "3.5.2"
  }
 },
 "nbformat": 4,
 "nbformat_minor": 2
}
