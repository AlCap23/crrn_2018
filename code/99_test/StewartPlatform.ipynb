{
 "cells": [
  {
   "cell_type": "markdown",
   "metadata": {},
   "source": [
    "# Closed Loop Kinematics\n",
    "\n",
    "We want to simulate a closed loop system - just because . As a starting point, we will tackle the **STEWART PLATFORM**.\n",
    "While this seems like an overkill, applying the closure conditions in pybullet is quite easy.\n",
    "\n",
    "First, we import the needed modules."
   ]
  },
  {
   "cell_type": "code",
   "execution_count": 1,
   "metadata": {},
   "outputs": [],
   "source": [
    "import pybullet as pb\n",
    "import pybullet_data as pbd"
   ]
  },
  {
   "cell_type": "markdown",
   "metadata": {},
   "source": [
    "And start a server. Additionally, we supply the open loop model of the stewart platform."
   ]
  },
  {
   "cell_type": "code",
   "execution_count": 2,
   "metadata": {},
   "outputs": [],
   "source": [
    "client = pb.connect(pb.GUI)\n",
    "\n",
    "robot_path = '../../models/urdf/Stewart.urdf'"
   ]
  },
  {
   "cell_type": "markdown",
   "metadata": {},
   "source": [
    "We will start by simulating the open loop kinematics under the influence of gravity."
   ]
  },
  {
   "cell_type": "code",
   "execution_count": 3,
   "metadata": {},
   "outputs": [],
   "source": [
    "pb.resetSimulation()\n",
    "pb.removeAllUserDebugItems()\n",
    "\n",
    "pb.setGravity(0, 0, -9.81, client)\n",
    "\n",
    "robot = pb.loadURDF(robot_path, useFixedBase=True, flags = pb.URDF_USE_INERTIA_FROM_FILE|pb.URDF_USE_SELF_COLLISION_INCLUDE_PARENT)\n",
    "\n",
    "pb.setRealTimeSimulation(1)"
   ]
  },
  {
   "cell_type": "code",
   "execution_count": 4,
   "metadata": {},
   "outputs": [],
   "source": [
    "pb.resetSimulation()\n",
    "pb.removeAllUserDebugItems()\n",
    "\n",
    "robot = pb.loadURDF(robot_path, useFixedBase=True)\n",
    "\n",
    "pb.setPhysicsEngineParameter(\n",
    "    fixedTimeStep = 1e-4,\n",
    "    numSolverIterations = 200,\n",
    "    constraintSolverType = pb.CONSTRAINT_SOLVER_LCP_DANTZIG,\n",
    "    globalCFM = 0.000001    \n",
    ")\n",
    "pb.setRealTimeSimulation(1)"
   ]
  },
  {
   "cell_type": "code",
   "execution_count": 5,
   "metadata": {},
   "outputs": [],
   "source": [
    "# Gather all joints and links\n",
    "joint_dict = {}\n",
    "for i in range(pb.getNumJoints(robot, client)):\n",
    "    joint_info = pb.getJointInfo(robot, i)\n",
    "    name = (joint_info[1]).decode('UTF-8')\n",
    "    if not name in joint_dict.keys():\n",
    "        joint_dict.update(\n",
    "        {name : i}\n",
    "        )\n",
    "\n",
    "# Make some new constraints\n",
    "parents = ['top_11', 'top_12', 'top_13']\n",
    "children = {'top_11' : ['ITF_31'], 'top_12' : ['ITF_22', 'ITF_12'], 'top_13' : ['ITF_23', 'ITF_33']}\n",
    "constraint_dict = {}\n",
    "for parent in parents:\n",
    "    parent_id = joint_dict[parent]\n",
    "    for child in children[parent]:\n",
    "        constraint_name = parent + '_2_' + child \n",
    "        child_id = joint_dict[child]\n",
    "        # Create a p2p connection\n",
    "        constraint_id = pb.createConstraint(\n",
    "            parentBodyUniqueId = robot,\n",
    "            parentLinkIndex = parent_id,\n",
    "            childBodyUniqueId = robot,\n",
    "            childLinkIndex = child_id, \n",
    "            jointType = pb.JOINT_POINT2POINT,\n",
    "            jointAxis = (0,0,0),\n",
    "            parentFramePosition = (0,0,0),\n",
    "            childFramePosition = (0,0,0),           \n",
    "        )\n",
    "        # Store the constraint information\n",
    "        constraint_dict.update(\n",
    "            {constraint_name : constraint_id}\n",
    "        )\n",
    "        # Change the constraint erp\n",
    "        pb.changeConstraint(\n",
    "            constraint_id,\n",
    "            erp = 1e-4,\n",
    "        )"
   ]
  },
  {
   "cell_type": "code",
   "execution_count": 6,
   "metadata": {},
   "outputs": [],
   "source": [
    "# Create Actuation\n",
    "control = ['P_11',  'P_33', 'P_55', 'P_22', 'P_44', 'P_55']\n",
    "debug_dict = {}\n",
    "for actor in control:\n",
    "    actor_id = joint_dict[actor]\n",
    "    joint_info = pb.getJointInfo(robot, actor_id)\n",
    "    min_val = joint_info[8]\n",
    "    max_val = joint_info[9]\n",
    "    current_val = pb.getJointState(robot, actor_id, client)[0]\n",
    "    debug_id = pb.addUserDebugParameter(actor, min_val, max_val, current_val, client)\n",
    "    debug_dict.update(\n",
    "        {debug_id : actor_id}\n",
    "    )    "
   ]
  },
  {
   "cell_type": "code",
   "execution_count": null,
   "metadata": {},
   "outputs": [],
   "source": []
  },
  {
   "cell_type": "code",
   "execution_count": null,
   "metadata": {},
   "outputs": [],
   "source": [
    "# Enable Position control\n",
    "while True:\n",
    "    for debug, actor  in debug_dict.items():\n",
    "        current_val = pb.readUserDebugParameter(debug, client)\n",
    "        pb.setJointMotorControl2(\n",
    "            robot,\n",
    "            actor,\n",
    "            controlMode = pb.POSITION_CONTROL,\n",
    "            targetPosition = current_val,\n",
    "        )"
   ]
  },
  {
   "cell_type": "code",
   "execution_count": null,
   "metadata": {},
   "outputs": [],
   "source": []
  }
 ],
 "metadata": {
  "kernelspec": {
   "display_name": "Python 3",
   "language": "python",
   "name": "python3"
  },
  "language_info": {
   "codemirror_mode": {
    "name": "ipython",
    "version": 3
   },
   "file_extension": ".py",
   "mimetype": "text/x-python",
   "name": "python",
   "nbconvert_exporter": "python",
   "pygments_lexer": "ipython3",
   "version": "3.6.6"
  }
 },
 "nbformat": 4,
 "nbformat_minor": 2
}
