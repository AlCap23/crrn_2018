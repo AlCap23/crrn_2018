{
 "cells": [
  {
   "cell_type": "code",
   "execution_count": 1,
   "metadata": {},
   "outputs": [],
   "source": [
    "import pybullet\n",
    "import pybullet_data\n",
    "from time import sleep"
   ]
  },
  {
   "cell_type": "code",
   "execution_count": 2,
   "metadata": {},
   "outputs": [],
   "source": [
    "class OptiSim(object):\n",
    "    def __init__(self, initial_twist):\n",
    "        \"\"\" Set up the simulation and returns the final position.\n",
    "        Takes initial linear velocity and angular velocity as an input.\n",
    "        \"\"\"\n",
    "\n",
    "        client = pybullet.connect(pybullet.GUI)\n",
    "\n",
    "        self.initial_conditions = initial_twist\n",
    "\n",
    "        self._setup_()\n",
    "\n",
    "    def reset(self, initial_twist):\n",
    "        self.initial_conditions = initial_twist\n",
    "        pybullet.resetSimulation()\n",
    "        self._setup_()\n",
    "\n",
    "    def run(self, slowdown=True):\n",
    "        self.time = 0\n",
    "        self.stepSize = pybullet.getPhysicsEngineParameters()[\"fixedTimeStep\"]\n",
    "        while self.time <= 15.:\n",
    "            pybullet.stepSimulation()\n",
    "            self.time += self.stepSize\n",
    "            if slowdown:\n",
    "                sleep(self.stepSize)\n",
    "\n",
    "        return list(pybullet.getBasePositionAndOrientation(self.sphere)[0])\n",
    "\n",
    "    def _setup_(self):\n",
    "        pybullet.setGravity(0, 0, -9.81)\n",
    "\n",
    "        plane = pybullet.loadURDF(\n",
    "            pybullet_data.getDataPath() + \"/plane.urdf\", useFixedBase=True,\n",
    "            globalScaling = 10.\n",
    "        )\n",
    "\n",
    "        pybullet.changeDynamics(plane, -1, restitution=0.99)\n",
    "\n",
    "        self.sphere = pybullet.loadURDF(\n",
    "            pybullet_data.getDataPath() + \"/sphere2.urdf\", basePosition=[2, 2, 5]\n",
    "        )\n",
    "\n",
    "        pybullet.changeDynamics(self.sphere, -1, restitution=0.90, lateralFriction = 0.03, rollingFriction = 0.005, spinningFriction = 0.003)\n",
    "\n",
    "        pybullet.resetBaseVelocity(\n",
    "            self.sphere, self.initial_conditions[:3], self.initial_conditions[3:]\n",
    "        )\n",
    "\n"
   ]
  },
  {
   "cell_type": "code",
   "execution_count": 3,
   "metadata": {},
   "outputs": [],
   "source": [
    "Optimize = OptiSim([-10, 15, 5, 8, 10, -10])"
   ]
  },
  {
   "cell_type": "code",
   "execution_count": 4,
   "metadata": {},
   "outputs": [
    {
     "data": {
      "text/plain": [
       "[-19.346261073560132, 35.80282860475317, 0.5452226080023647]"
      ]
     },
     "execution_count": 4,
     "metadata": {},
     "output_type": "execute_result"
    }
   ],
   "source": [
    "Optimize.run(slowdown=True)"
   ]
  },
  {
   "cell_type": "code",
   "execution_count": 5,
   "metadata": {},
   "outputs": [
    {
     "data": {
      "text/plain": [
       "[-12.68054353550928, 6.780606728187507, 0.5927449619626377]"
      ]
     },
     "execution_count": 5,
     "metadata": {},
     "output_type": "execute_result"
    }
   ],
   "source": [
    "Optimize.reset([-5, 2, 2, 4, 5, -9])\n",
    "Optimize.run(slowdown=False)"
   ]
  },
  {
   "cell_type": "code",
   "execution_count": null,
   "metadata": {},
   "outputs": [],
   "source": [
    "Optimize.reset([-5, 2, 2, 4, 5, 800])\n",
    "Optimize.run()"
   ]
  },
  {
   "cell_type": "code",
   "execution_count": null,
   "metadata": {},
   "outputs": [],
   "source": []
  }
 ],
 "metadata": {
  "kernelspec": {
   "display_name": "Python 3",
   "language": "python",
   "name": "python3"
  },
  "language_info": {
   "codemirror_mode": {
    "name": "ipython",
    "version": 3
   },
   "file_extension": ".py",
   "mimetype": "text/x-python",
   "name": "python",
   "nbconvert_exporter": "python",
   "pygments_lexer": "ipython3",
   "version": "3.6.6"
  }
 },
 "nbformat": 4,
 "nbformat_minor": 2
}
